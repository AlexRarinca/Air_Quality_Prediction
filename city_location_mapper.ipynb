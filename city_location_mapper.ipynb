{
 "cells": [
  {
   "cell_type": "markdown",
   "id": "122e3480",
   "metadata": {},
   "source": [
    "Maps city location to latitude and longitude values.\n",
    "\n",
    "Needs to be edited for use with specific stations."
   ]
  },
  {
   "cell_type": "markdown",
   "id": "0b0d4288",
   "metadata": {},
   "source": [
    "Imports"
   ]
  },
  {
   "cell_type": "code",
   "execution_count": 2,
   "id": "3e97dbd2",
   "metadata": {},
   "outputs": [],
   "source": [
    "import pandas as pd\n",
    "from geopy.geocoders import Nominatim\n",
    "import time"
   ]
  },
  {
   "cell_type": "markdown",
   "id": "882e1cc7",
   "metadata": {},
   "source": [
    "Load dataset"
   ]
  },
  {
   "cell_type": "code",
   "execution_count": 3,
   "id": "ea5db34e",
   "metadata": {},
   "outputs": [
    {
     "name": "stdout",
     "output_type": "stream",
     "text": [
      "        City       Date  PM2.5  PM10     NO    NO2    NOx  NH3     CO    SO2  \\\n",
      "0  Ahmedabad 2015-01-01    NaN   NaN   0.92  18.22  17.15  NaN   0.92  27.64   \n",
      "1  Ahmedabad 2015-01-02    NaN   NaN   0.97  15.69  16.46  NaN   0.97  24.55   \n",
      "2  Ahmedabad 2015-01-03    NaN   NaN  17.40  19.30  29.70  NaN  17.40  29.07   \n",
      "3  Ahmedabad 2015-01-04    NaN   NaN   1.70  18.48  17.97  NaN   1.70  18.59   \n",
      "4  Ahmedabad 2015-01-05    NaN   NaN  22.10  21.42  37.76  NaN  22.10  39.33   \n",
      "\n",
      "       O3  Benzene  Toluene  Xylene  AQI AQI_Bucket  \n",
      "0  133.36     0.00     0.02    0.00  NaN        NaN  \n",
      "1   34.06     3.68     5.50    3.77  NaN        NaN  \n",
      "2   30.70     6.80    16.40    2.25  NaN        NaN  \n",
      "3   36.08     4.43    10.14    1.00  NaN        NaN  \n",
      "4   39.31     7.01    18.89    2.78  NaN        NaN  \n"
     ]
    }
   ],
   "source": [
    "# Loading the dataset\n",
    "df = pd.read_csv('city_day.csv')\n",
    "# Converting 'Date' column to datetime format\n",
    "df['Date'] = pd.to_datetime(df['Date'])\n",
    "# Displaying the first few rows of the dataframe\n",
    "print(df.head())"
   ]
  },
  {
   "cell_type": "markdown",
   "id": "a6e88e55",
   "metadata": {},
   "source": [
    "Using geocoder to get location of place - used chat gpt to assist"
   ]
  },
  {
   "cell_type": "code",
   "execution_count": 4,
   "id": "5fcc3ec3",
   "metadata": {},
   "outputs": [
    {
     "name": "stdout",
     "output_type": "stream",
     "text": [
      "        City       Date  PM2.5  PM10     NO    NO2    NOx  NH3     CO    SO2  \\\n",
      "0  Ahmedabad 2015-01-01    NaN   NaN   0.92  18.22  17.15  NaN   0.92  27.64   \n",
      "1  Ahmedabad 2015-01-02    NaN   NaN   0.97  15.69  16.46  NaN   0.97  24.55   \n",
      "2  Ahmedabad 2015-01-03    NaN   NaN  17.40  19.30  29.70  NaN  17.40  29.07   \n",
      "3  Ahmedabad 2015-01-04    NaN   NaN   1.70  18.48  17.97  NaN   1.70  18.59   \n",
      "4  Ahmedabad 2015-01-05    NaN   NaN  22.10  21.42  37.76  NaN  22.10  39.33   \n",
      "\n",
      "       O3  Benzene  Toluene  Xylene  AQI AQI_Bucket        lat        lon  \n",
      "0  133.36     0.00     0.02    0.00  NaN        NaN  23.021537  72.580057  \n",
      "1   34.06     3.68     5.50    3.77  NaN        NaN  23.021537  72.580057  \n",
      "2   30.70     6.80    16.40    2.25  NaN        NaN  23.021537  72.580057  \n",
      "3   36.08     4.43    10.14    1.00  NaN        NaN  23.021537  72.580057  \n",
      "4   39.31     7.01    18.89    2.78  NaN        NaN  23.021537  72.580057  \n"
     ]
    }
   ],
   "source": [
    "# Initialize geocoder\n",
    "geolocator = Nominatim(user_agent=\"geoapi\")\n",
    "\n",
    "def get_coords(city):\n",
    "    try:\n",
    "        location = geolocator.geocode(city + \", India\")\n",
    "        return (location.latitude, location.longitude)\n",
    "    except:\n",
    "        print(f\"Could not geocode city: {city}\")\n",
    "        return (None, None)\n",
    "\n",
    "# Step 1: Get unique cities\n",
    "unique_cities = df[\"City\"].unique()\n",
    "\n",
    "# Step 2: Geocode each unique city (with delay to avoid rate-limit issues)\n",
    "city_coords = {}\n",
    "for city in unique_cities:\n",
    "    latlon = get_coords(city)\n",
    "    city_coords[city] = latlon\n",
    "    time.sleep(1)  # respect API rate limit\n",
    "\n",
    "# Step 3: Map coordinates back to DataFrame\n",
    "df[[\"lat\", \"lon\"]] = df[\"City\"].map(city_coords).apply(pd.Series)\n",
    "\n",
    "print(df.head())"
   ]
  },
  {
   "cell_type": "markdown",
   "id": "649f6316",
   "metadata": {},
   "source": [
    "exporting csv"
   ]
  },
  {
   "cell_type": "code",
   "execution_count": 5,
   "id": "9edfbdcb",
   "metadata": {},
   "outputs": [],
   "source": [
    "df.to_csv('city_day_with_coords.csv', index=False)"
   ]
  },
  {
   "cell_type": "markdown",
   "id": "7097c812",
   "metadata": {},
   "source": [
    "for stations:"
   ]
  },
  {
   "cell_type": "code",
   "execution_count": 9,
   "id": "fcb2722d",
   "metadata": {},
   "outputs": [
    {
     "name": "stdout",
     "output_type": "stream",
     "text": [
      "Could not geocode city: Bhiwandi, Rajasthan\n",
      "Could not geocode city: Muzzaffarnagar, Uttar Pradesh\n",
      "  StationId                                     StationName  \\\n",
      "0     AP001                  Secretariat, Amaravati - APPCB   \n",
      "1     AP002  Anand Kala Kshetram, Rajamahendravaram - APPCB   \n",
      "2     AP003                      Tirumala, Tirupati - APPCB   \n",
      "3     AP004                 PWD Grounds, Vijayawada - APPCB   \n",
      "4     AP005          GVM Corporation, Visakhapatnam - APPCB   \n",
      "\n",
      "                City           State  Status        lat        lon  \n",
      "0          Amaravati  Andhra Pradesh  Active  16.494222  80.510586  \n",
      "1  Rajamahendravaram  Andhra Pradesh     NaN  17.005045  81.780473  \n",
      "2           Tirupati  Andhra Pradesh     NaN  13.631637  79.423171  \n",
      "3         Vijayawada  Andhra Pradesh     NaN  16.511531  80.616047  \n",
      "4      Visakhapatnam  Andhra Pradesh  Active  17.693553  83.292130  \n"
     ]
    }
   ],
   "source": [
    "# Load stations data\n",
    "df_stations = pd.read_csv('stations.csv')\n",
    "\n",
    "# Step 1: Create a \"City, State\" column\n",
    "df_stations['City_State'] = df_stations['City'] + ', ' + df_stations['State']\n",
    "\n",
    "# Step 2: Geocode each city-state\n",
    "city_coords = {}\n",
    "for city_state in df_stations['City_State']:\n",
    "    latlon = get_coords(city_state)  # Your geocoding function\n",
    "    city_coords[city_state] = latlon\n",
    "    time.sleep(1)  # Avoid rate-limit issues\n",
    "\n",
    "\n",
    "# Step 3: Map coordinates back to the DataFrame\n",
    "df_stations[['lat', 'lon']] = df_stations['City_State'].map(city_coords).apply(pd.Series)\n",
    "\n",
    "df_stations.drop(columns=['City_State'], inplace=True)\n",
    "print(df_stations.head())\n",
    "\n",
    "df_stations.to_csv('stations_with_coords.csv', index=False)"
   ]
  }
 ],
 "metadata": {
  "kernelspec": {
   "display_name": "pocm",
   "language": "python",
   "name": "python3"
  },
  "language_info": {
   "codemirror_mode": {
    "name": "ipython",
    "version": 3
   },
   "file_extension": ".py",
   "mimetype": "text/x-python",
   "name": "python",
   "nbconvert_exporter": "python",
   "pygments_lexer": "ipython3",
   "version": "3.11.11"
  }
 },
 "nbformat": 4,
 "nbformat_minor": 5
}
